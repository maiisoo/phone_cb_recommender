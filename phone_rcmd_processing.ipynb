{
 "nbformat": 4,
 "nbformat_minor": 0,
 "metadata": {
  "colab": {
   "provenance": []
  },
  "kernelspec": {
   "name": "python3",
   "display_name": "Python 3"
  },
  "language_info": {
   "name": "python"
  }
 },
 "cells": [
  {
   "cell_type": "code",
   "execution_count": 266,
   "metadata": {
    "id": "jw9VUYkIX4eh",
    "pycharm": {
     "name": "#%%\n"
    }
   },
   "outputs": [],
   "source": [
    "import numpy as np\n",
    "import pandas as pd\n",
    "import re\n",
    "import matplotlib.pyplot as plt\n",
    "import seaborn as sns\n",
    "import math"
   ]
  },
  {
   "cell_type": "markdown",
   "source": [
    "# Import data"
   ],
   "metadata": {
    "id": "R7f0CrIki3WY",
    "pycharm": {
     "name": "#%% md\n"
    }
   }
  },
  {
   "cell_type": "code",
   "source": [
    "df = pd.read_csv(\"/content/sample_data/phones.csv\")"
   ],
   "metadata": {
    "id": "mhtEw7aJYqyg",
    "pycharm": {
     "name": "#%%\n"
    }
   },
   "execution_count": 267,
   "outputs": []
  },
  {
   "cell_type": "code",
   "source": [
    "def no_accent_vietnamese(s):\n",
    "    s = re.sub('[áàảãạăắằẳẵặâấầẩẫậ]', 'a', s)\n",
    "    s = re.sub('[ÁÀẢÃẠĂẮẰẲẴẶÂẤẦẨẪẬ]', 'A', s)\n",
    "    s = re.sub('[éèẻẽẹêếềểễệ]', 'e', s)\n",
    "    s = re.sub('[ÉÈẺẼẸÊẾỀỂỄỆ]', 'E', s)\n",
    "    s = re.sub('[óòỏõọôốồổỗộơớờởỡợ]', 'o', s)\n",
    "    s = re.sub('[ÓÒỎÕỌÔỐỒỔỖỘƠỚỜỞỠỢ]', 'O', s)\n",
    "    s = re.sub('[íìỉĩị]', 'i', s)\n",
    "    s = re.sub('[ÍÌỈĨỊ]', 'I', s)\n",
    "    s = re.sub('[úùủũụưứừửữự]', 'u', s)\n",
    "    s = re.sub('[ÚÙỦŨỤƯỨỪỬỮỰ]', 'U', s)\n",
    "    s = re.sub('[ýỳỷỹỵ]', 'y', s)\n",
    "    s = re.sub('[ÝỲỶỸỴ]', 'Y', s)\n",
    "    s = re.sub('đ', 'd', s)\n",
    "    s = re.sub('Đ', 'D', s)\n",
    "    return s"
   ],
   "metadata": {
    "id": "nbqsA-nrgWkX",
    "pycharm": {
     "name": "#%%\n"
    }
   },
   "execution_count": 268,
   "outputs": []
  },
  {
   "cell_type": "code",
   "source": [
    "def find_numeric_value(s):\n",
    "    numeric_part = \"\"\n",
    "    for char in s:\n",
    "        if char.isdigit() or char == '.':\n",
    "            numeric_part += char\n",
    "        elif numeric_part:\n",
    "            return float(numeric_part)\n",
    "    return None"
   ],
   "metadata": {
    "id": "VKUfStbXE0yk",
    "pycharm": {
     "name": "#%%\n"
    }
   },
   "execution_count": 269,
   "outputs": []
  },
  {
   "cell_type": "code",
   "source": [
    "# Convert technicalDetail to separate columns\n",
    "def convert_column_data(row):\n",
    "  technical_data_list = eval(row['technicalDetail'])\n",
    "  data_dict = {item['title']: item['value'] for item in technical_data_list}\n",
    "  return pd.Series(data_dict)"
   ],
   "metadata": {
    "id": "h-cSv1WGZPbx",
    "pycharm": {
     "name": "#%%\n"
    }
   },
   "execution_count": 270,
   "outputs": []
  },
  {
   "cell_type": "code",
   "source": [
    "extracted_columns = df.apply(convert_column_data, axis=1)\n",
    "old_column_names = extracted_columns.columns\n",
    "new_column_names = [no_accent_vietnamese(col).lower() for col in old_column_names]\n",
    "mapping = {old: new for old, new in zip(old_column_names, new_column_names)}\n",
    "extracted_columns.rename(columns=mapping, inplace=True)\n",
    "df = pd.concat([df, extracted_columns], axis=1)\n",
    "df.drop(columns=['technicalDetail'], inplace=True)"
   ],
   "metadata": {
    "id": "E5APZkJoT6Ow",
    "colab": {
     "base_uri": "https://localhost:8080/"
    },
    "outputId": "92f524b1-b81f-4f7a-c3da-adfe069afc5c",
    "pycharm": {
     "name": "#%%\n"
    }
   },
   "execution_count": 271,
   "outputs": [
    {
     "output_type": "stream",
     "name": "stderr",
     "text": [
      "<ipython-input-270-53891391077c>:5: FutureWarning: The default dtype for empty Series will be 'object' instead of 'float64' in a future version. Specify a dtype explicitly to silence this warning.\n",
      "  return pd.Series(data_dict)\n",
      "<ipython-input-270-53891391077c>:5: FutureWarning: The default dtype for empty Series will be 'object' instead of 'float64' in a future version. Specify a dtype explicitly to silence this warning.\n",
      "  return pd.Series(data_dict)\n",
      "<ipython-input-270-53891391077c>:5: FutureWarning: The default dtype for empty Series will be 'object' instead of 'float64' in a future version. Specify a dtype explicitly to silence this warning.\n",
      "  return pd.Series(data_dict)\n",
      "<ipython-input-270-53891391077c>:5: FutureWarning: The default dtype for empty Series will be 'object' instead of 'float64' in a future version. Specify a dtype explicitly to silence this warning.\n",
      "  return pd.Series(data_dict)\n",
      "<ipython-input-270-53891391077c>:5: FutureWarning: The default dtype for empty Series will be 'object' instead of 'float64' in a future version. Specify a dtype explicitly to silence this warning.\n",
      "  return pd.Series(data_dict)\n",
      "<ipython-input-270-53891391077c>:5: FutureWarning: The default dtype for empty Series will be 'object' instead of 'float64' in a future version. Specify a dtype explicitly to silence this warning.\n",
      "  return pd.Series(data_dict)\n",
      "<ipython-input-270-53891391077c>:5: FutureWarning: The default dtype for empty Series will be 'object' instead of 'float64' in a future version. Specify a dtype explicitly to silence this warning.\n",
      "  return pd.Series(data_dict)\n",
      "<ipython-input-270-53891391077c>:5: FutureWarning: The default dtype for empty Series will be 'object' instead of 'float64' in a future version. Specify a dtype explicitly to silence this warning.\n",
      "  return pd.Series(data_dict)\n",
      "<ipython-input-270-53891391077c>:5: FutureWarning: The default dtype for empty Series will be 'object' instead of 'float64' in a future version. Specify a dtype explicitly to silence this warning.\n",
      "  return pd.Series(data_dict)\n",
      "<ipython-input-270-53891391077c>:5: FutureWarning: The default dtype for empty Series will be 'object' instead of 'float64' in a future version. Specify a dtype explicitly to silence this warning.\n",
      "  return pd.Series(data_dict)\n",
      "<ipython-input-270-53891391077c>:5: FutureWarning: The default dtype for empty Series will be 'object' instead of 'float64' in a future version. Specify a dtype explicitly to silence this warning.\n",
      "  return pd.Series(data_dict)\n",
      "<ipython-input-270-53891391077c>:5: FutureWarning: The default dtype for empty Series will be 'object' instead of 'float64' in a future version. Specify a dtype explicitly to silence this warning.\n",
      "  return pd.Series(data_dict)\n",
      "<ipython-input-270-53891391077c>:5: FutureWarning: The default dtype for empty Series will be 'object' instead of 'float64' in a future version. Specify a dtype explicitly to silence this warning.\n",
      "  return pd.Series(data_dict)\n",
      "<ipython-input-270-53891391077c>:5: FutureWarning: The default dtype for empty Series will be 'object' instead of 'float64' in a future version. Specify a dtype explicitly to silence this warning.\n",
      "  return pd.Series(data_dict)\n",
      "<ipython-input-270-53891391077c>:5: FutureWarning: The default dtype for empty Series will be 'object' instead of 'float64' in a future version. Specify a dtype explicitly to silence this warning.\n",
      "  return pd.Series(data_dict)\n",
      "<ipython-input-270-53891391077c>:5: FutureWarning: The default dtype for empty Series will be 'object' instead of 'float64' in a future version. Specify a dtype explicitly to silence this warning.\n",
      "  return pd.Series(data_dict)\n",
      "<ipython-input-270-53891391077c>:5: FutureWarning: The default dtype for empty Series will be 'object' instead of 'float64' in a future version. Specify a dtype explicitly to silence this warning.\n",
      "  return pd.Series(data_dict)\n",
      "<ipython-input-270-53891391077c>:5: FutureWarning: The default dtype for empty Series will be 'object' instead of 'float64' in a future version. Specify a dtype explicitly to silence this warning.\n",
      "  return pd.Series(data_dict)\n",
      "<ipython-input-270-53891391077c>:5: FutureWarning: The default dtype for empty Series will be 'object' instead of 'float64' in a future version. Specify a dtype explicitly to silence this warning.\n",
      "  return pd.Series(data_dict)\n",
      "<ipython-input-270-53891391077c>:5: FutureWarning: The default dtype for empty Series will be 'object' instead of 'float64' in a future version. Specify a dtype explicitly to silence this warning.\n",
      "  return pd.Series(data_dict)\n"
     ]
    }
   ]
  },
  {
   "cell_type": "markdown",
   "source": [
    "# EDA"
   ],
   "metadata": {
    "id": "II1I4Tncj1wO",
    "pycharm": {
     "name": "#%% md\n"
    }
   }
  },
  {
   "cell_type": "code",
   "source": [
    "df.head()"
   ],
   "metadata": {
    "colab": {
     "base_uri": "https://localhost:8080/",
     "height": 933
    },
    "id": "d2ZfuoDBjsRz",
    "outputId": "56e23ee7-850d-4d77-c66d-7d08dc8be052",
    "pycharm": {
     "name": "#%%\n"
    }
   },
   "execution_count": 272,
   "outputs": [
    {
     "output_type": "execute_result",
     "data": {
      "text/plain": [
       "   ID                                        pName  tradePrice  actualPrice  \\\n",
       "0   1              Samsung Galaxy S23 Ultra 256GB   25490000.0   31990000.0   \n",
       "1   2              Xiaomi Redmi Note 12 8GB 128GB    4790000.0    5790000.0   \n",
       "2   3   iPhone 14 Pro Max 128GB | Chính hãng VN/A   24390000.0   29990000.0   \n",
       "3   4           iPhone 13 128GB | Chính hãng VN/A   15290000.0   18990000.0   \n",
       "4   5              Xiaomi Redmi Note 12 4GB 128GB    3890000.0    4990000.0   \n",
       "\n",
       "    salePrice    brand           productLine rating  \\\n",
       "0  25990000.0  Samsung              Galaxy S  5.0/5   \n",
       "1   5290000.0   Xiaomi                 Redmi    NaN   \n",
       "2  26390000.0    Apple      iPhone 14 Series  5.0/5   \n",
       "3  16290000.0    Apple  iPhone 15 - 25 triệu  4.8/5   \n",
       "4   4390000.0   Xiaomi                 Redmi  4.9/5   \n",
       "\n",
       "                                                 url       ...  \\\n",
       "0  https://cellphones.com.vn/samsung-galaxy-s23-u...  NaN  ...   \n",
       "1  https://cellphones.com.vn/xiaomi-redmi-note-12...  NaN  ...   \n",
       "2   https://cellphones.com.vn/iphone-14-pro-max.html  NaN  ...   \n",
       "3           https://cellphones.com.vn/iphone-13.html  NaN  ...   \n",
       "4  https://cellphones.com.vn/xiaomi-redmi-note-12...  NaN  ...   \n",
       "\n",
       "  thoi diem ra mat                                      tien ich khac  \\\n",
       "0              NaN  Samsung DeX, Samsung Wireless DeX, trợ lí ảo B...   \n",
       "1              NaN       Mở khoá khuôn mặt, Mở khoá vân tay cạnh viền   \n",
       "2              NaN  Phát hiện va chạm (Crash Detection)\\nMàn hình ...   \n",
       "3              NaN                                                NaN   \n",
       "4              NaN       Mở khoá khuôn mặt, Mở khoá vân tay cạnh viền   \n",
       "\n",
       "  trong luong                                   tinh nang camera  \\\n",
       "0       234 g  Quay Siêu chậm (Super Slow Motion)\\nChuyên ngh...   \n",
       "1         NaN  Chân dung\\nToàn cảnh\\nChế độ chuyên nghiệp\\nCh...   \n",
       "2      240 gr  Quay phim Cinematic, Chế độ ProRes, Quay phim ...   \n",
       "3        174g  Chạm lấy nét\\nHDR\\nNhận diện khuôn mặt\\nQuay c...   \n",
       "4         NaN  Chân dung\\nToàn cảnh\\nChế độ chuyên nghiệp\\nCh...   \n",
       "\n",
       "                                  tinh nang man hinh  \\\n",
       "0   120Hz, HDR10+, 1750 nits, Gorilla Glass Victus 2   \n",
       "1  Tần số quét 120Hz, độ sáng 1200nits\\nCorning® ...   \n",
       "2  120Hz, Always-On display, HDR, True Tone, Hapt...   \n",
       "3  Màn hình super Retina XDR, OLED, 460 ppi, HDR ...   \n",
       "4  Tần số quét 120Hz, độ sáng 1200nits\\nCorning® ...   \n",
       "\n",
       "                                  tinh nang dac biet tuong thich tan so quet  \\\n",
       "0  Hỗ trợ 5G, Sạc không dây, Bảo mật vân tay, Nhậ...   Bút S-Pen       120Hz   \n",
       "1                                                NaN         NaN         NaN   \n",
       "2  Hỗ trợ 5G, Sạc không dây, Nhận diện khuôn mặt,...         NaN       120Hz   \n",
       "3  Hỗ trợ 5G, Sạc không dây, Nhận diện khuôn mặt,...         NaN        60Hz   \n",
       "4                                                NaN         NaN         NaN   \n",
       "\n",
       "                                               wi-fi  \\\n",
       "0  Wi-Fi 802.11 a/b/g/n/ac/6e, tri-band, Wi-Fi Di...   \n",
       "1                                  802.11 a/b/g/n/ac   \n",
       "2  Wi-Fi MIMO, Dual-band (2.4 GHz/5 GHz), Wi-Fi 8...   \n",
       "3                                 Wi‑Fi 6 (802.11ax)   \n",
       "4                                  802.11 a/b/g/n/ac   \n",
       "\n",
       "          do phan giai man hinh  \n",
       "0     1440 x 3088 pixels (QHD+)  \n",
       "1  1080 x 2400 pixels (FullHD+)  \n",
       "2             2796 x 1290-pixel  \n",
       "3            2532 x 1170 pixels  \n",
       "4  1080 x 2400 pixels (FullHD+)  \n",
       "\n",
       "[5 rows x 55 columns]"
      ],
      "text/html": [
       "\n",
       "  <div id=\"df-71acedbf-88af-443a-b86f-1e88cff006de\" class=\"colab-df-container\">\n",
       "    <div>\n",
       "<style scoped>\n",
       "    .dataframe tbody tr th:only-of-type {\n",
       "        vertical-align: middle;\n",
       "    }\n",
       "\n",
       "    .dataframe tbody tr th {\n",
       "        vertical-align: top;\n",
       "    }\n",
       "\n",
       "    .dataframe thead th {\n",
       "        text-align: right;\n",
       "    }\n",
       "</style>\n",
       "<table border=\"1\" class=\"dataframe\">\n",
       "  <thead>\n",
       "    <tr style=\"text-align: right;\">\n",
       "      <th></th>\n",
       "      <th>ID</th>\n",
       "      <th>pName</th>\n",
       "      <th>tradePrice</th>\n",
       "      <th>actualPrice</th>\n",
       "      <th>salePrice</th>\n",
       "      <th>brand</th>\n",
       "      <th>productLine</th>\n",
       "      <th>rating</th>\n",
       "      <th>url</th>\n",
       "      <th></th>\n",
       "      <th>...</th>\n",
       "      <th>thoi diem ra mat</th>\n",
       "      <th>tien ich khac</th>\n",
       "      <th>trong luong</th>\n",
       "      <th>tinh nang camera</th>\n",
       "      <th>tinh nang man hinh</th>\n",
       "      <th>tinh nang dac biet</th>\n",
       "      <th>tuong thich</th>\n",
       "      <th>tan so quet</th>\n",
       "      <th>wi-fi</th>\n",
       "      <th>do phan giai man hinh</th>\n",
       "    </tr>\n",
       "  </thead>\n",
       "  <tbody>\n",
       "    <tr>\n",
       "      <th>0</th>\n",
       "      <td>1</td>\n",
       "      <td>Samsung Galaxy S23 Ultra 256GB</td>\n",
       "      <td>25490000.0</td>\n",
       "      <td>31990000.0</td>\n",
       "      <td>25990000.0</td>\n",
       "      <td>Samsung</td>\n",
       "      <td>Galaxy S</td>\n",
       "      <td>5.0/5</td>\n",
       "      <td>https://cellphones.com.vn/samsung-galaxy-s23-u...</td>\n",
       "      <td>NaN</td>\n",
       "      <td>...</td>\n",
       "      <td>NaN</td>\n",
       "      <td>Samsung DeX, Samsung Wireless DeX, trợ lí ảo B...</td>\n",
       "      <td>234 g</td>\n",
       "      <td>Quay Siêu chậm (Super Slow Motion)\\nChuyên ngh...</td>\n",
       "      <td>120Hz, HDR10+, 1750 nits, Gorilla Glass Victus 2</td>\n",
       "      <td>Hỗ trợ 5G, Sạc không dây, Bảo mật vân tay, Nhậ...</td>\n",
       "      <td>Bút S-Pen</td>\n",
       "      <td>120Hz</td>\n",
       "      <td>Wi-Fi 802.11 a/b/g/n/ac/6e, tri-band, Wi-Fi Di...</td>\n",
       "      <td>1440 x 3088 pixels (QHD+)</td>\n",
       "    </tr>\n",
       "    <tr>\n",
       "      <th>1</th>\n",
       "      <td>2</td>\n",
       "      <td>Xiaomi Redmi Note 12 8GB 128GB</td>\n",
       "      <td>4790000.0</td>\n",
       "      <td>5790000.0</td>\n",
       "      <td>5290000.0</td>\n",
       "      <td>Xiaomi</td>\n",
       "      <td>Redmi</td>\n",
       "      <td>NaN</td>\n",
       "      <td>https://cellphones.com.vn/xiaomi-redmi-note-12...</td>\n",
       "      <td>NaN</td>\n",
       "      <td>...</td>\n",
       "      <td>NaN</td>\n",
       "      <td>Mở khoá khuôn mặt, Mở khoá vân tay cạnh viền</td>\n",
       "      <td>NaN</td>\n",
       "      <td>Chân dung\\nToàn cảnh\\nChế độ chuyên nghiệp\\nCh...</td>\n",
       "      <td>Tần số quét 120Hz, độ sáng 1200nits\\nCorning® ...</td>\n",
       "      <td>NaN</td>\n",
       "      <td>NaN</td>\n",
       "      <td>NaN</td>\n",
       "      <td>802.11 a/b/g/n/ac</td>\n",
       "      <td>1080 x 2400 pixels (FullHD+)</td>\n",
       "    </tr>\n",
       "    <tr>\n",
       "      <th>2</th>\n",
       "      <td>3</td>\n",
       "      <td>iPhone 14 Pro Max 128GB | Chính hãng VN/A</td>\n",
       "      <td>24390000.0</td>\n",
       "      <td>29990000.0</td>\n",
       "      <td>26390000.0</td>\n",
       "      <td>Apple</td>\n",
       "      <td>iPhone 14 Series</td>\n",
       "      <td>5.0/5</td>\n",
       "      <td>https://cellphones.com.vn/iphone-14-pro-max.html</td>\n",
       "      <td>NaN</td>\n",
       "      <td>...</td>\n",
       "      <td>NaN</td>\n",
       "      <td>Phát hiện va chạm (Crash Detection)\\nMàn hình ...</td>\n",
       "      <td>240 gr</td>\n",
       "      <td>Quay phim Cinematic, Chế độ ProRes, Quay phim ...</td>\n",
       "      <td>120Hz, Always-On display, HDR, True Tone, Hapt...</td>\n",
       "      <td>Hỗ trợ 5G, Sạc không dây, Nhận diện khuôn mặt,...</td>\n",
       "      <td>NaN</td>\n",
       "      <td>120Hz</td>\n",
       "      <td>Wi-Fi MIMO, Dual-band (2.4 GHz/5 GHz), Wi-Fi 8...</td>\n",
       "      <td>2796 x 1290-pixel</td>\n",
       "    </tr>\n",
       "    <tr>\n",
       "      <th>3</th>\n",
       "      <td>4</td>\n",
       "      <td>iPhone 13 128GB | Chính hãng VN/A</td>\n",
       "      <td>15290000.0</td>\n",
       "      <td>18990000.0</td>\n",
       "      <td>16290000.0</td>\n",
       "      <td>Apple</td>\n",
       "      <td>iPhone 15 - 25 triệu</td>\n",
       "      <td>4.8/5</td>\n",
       "      <td>https://cellphones.com.vn/iphone-13.html</td>\n",
       "      <td>NaN</td>\n",
       "      <td>...</td>\n",
       "      <td>NaN</td>\n",
       "      <td>NaN</td>\n",
       "      <td>174g</td>\n",
       "      <td>Chạm lấy nét\\nHDR\\nNhận diện khuôn mặt\\nQuay c...</td>\n",
       "      <td>Màn hình super Retina XDR, OLED, 460 ppi, HDR ...</td>\n",
       "      <td>Hỗ trợ 5G, Sạc không dây, Nhận diện khuôn mặt,...</td>\n",
       "      <td>NaN</td>\n",
       "      <td>60Hz</td>\n",
       "      <td>Wi‑Fi 6 (802.11ax)</td>\n",
       "      <td>2532 x 1170 pixels</td>\n",
       "    </tr>\n",
       "    <tr>\n",
       "      <th>4</th>\n",
       "      <td>5</td>\n",
       "      <td>Xiaomi Redmi Note 12 4GB 128GB</td>\n",
       "      <td>3890000.0</td>\n",
       "      <td>4990000.0</td>\n",
       "      <td>4390000.0</td>\n",
       "      <td>Xiaomi</td>\n",
       "      <td>Redmi</td>\n",
       "      <td>4.9/5</td>\n",
       "      <td>https://cellphones.com.vn/xiaomi-redmi-note-12...</td>\n",
       "      <td>NaN</td>\n",
       "      <td>...</td>\n",
       "      <td>NaN</td>\n",
       "      <td>Mở khoá khuôn mặt, Mở khoá vân tay cạnh viền</td>\n",
       "      <td>NaN</td>\n",
       "      <td>Chân dung\\nToàn cảnh\\nChế độ chuyên nghiệp\\nCh...</td>\n",
       "      <td>Tần số quét 120Hz, độ sáng 1200nits\\nCorning® ...</td>\n",
       "      <td>NaN</td>\n",
       "      <td>NaN</td>\n",
       "      <td>NaN</td>\n",
       "      <td>802.11 a/b/g/n/ac</td>\n",
       "      <td>1080 x 2400 pixels (FullHD+)</td>\n",
       "    </tr>\n",
       "  </tbody>\n",
       "</table>\n",
       "<p>5 rows × 55 columns</p>\n",
       "</div>\n",
       "    <div class=\"colab-df-buttons\">\n",
       "\n",
       "  <div class=\"colab-df-container\">\n",
       "    <button class=\"colab-df-convert\" onclick=\"convertToInteractive('df-71acedbf-88af-443a-b86f-1e88cff006de')\"\n",
       "            title=\"Convert this dataframe to an interactive table.\"\n",
       "            style=\"display:none;\">\n",
       "\n",
       "  <svg xmlns=\"http://www.w3.org/2000/svg\" height=\"24px\" viewBox=\"0 -960 960 960\">\n",
       "    <path d=\"M120-120v-720h720v720H120Zm60-500h600v-160H180v160Zm220 220h160v-160H400v160Zm0 220h160v-160H400v160ZM180-400h160v-160H180v160Zm440 0h160v-160H620v160ZM180-180h160v-160H180v160Zm440 0h160v-160H620v160Z\"/>\n",
       "  </svg>\n",
       "    </button>\n",
       "\n",
       "  <style>\n",
       "    .colab-df-container {\n",
       "      display:flex;\n",
       "      gap: 12px;\n",
       "    }\n",
       "\n",
       "    .colab-df-convert {\n",
       "      background-color: #E8F0FE;\n",
       "      border: none;\n",
       "      border-radius: 50%;\n",
       "      cursor: pointer;\n",
       "      display: none;\n",
       "      fill: #1967D2;\n",
       "      height: 32px;\n",
       "      padding: 0 0 0 0;\n",
       "      width: 32px;\n",
       "    }\n",
       "\n",
       "    .colab-df-convert:hover {\n",
       "      background-color: #E2EBFA;\n",
       "      box-shadow: 0px 1px 2px rgba(60, 64, 67, 0.3), 0px 1px 3px 1px rgba(60, 64, 67, 0.15);\n",
       "      fill: #174EA6;\n",
       "    }\n",
       "\n",
       "    .colab-df-buttons div {\n",
       "      margin-bottom: 4px;\n",
       "    }\n",
       "\n",
       "    [theme=dark] .colab-df-convert {\n",
       "      background-color: #3B4455;\n",
       "      fill: #D2E3FC;\n",
       "    }\n",
       "\n",
       "    [theme=dark] .colab-df-convert:hover {\n",
       "      background-color: #434B5C;\n",
       "      box-shadow: 0px 1px 3px 1px rgba(0, 0, 0, 0.15);\n",
       "      filter: drop-shadow(0px 1px 2px rgba(0, 0, 0, 0.3));\n",
       "      fill: #FFFFFF;\n",
       "    }\n",
       "  </style>\n",
       "\n",
       "    <script>\n",
       "      const buttonEl =\n",
       "        document.querySelector('#df-71acedbf-88af-443a-b86f-1e88cff006de button.colab-df-convert');\n",
       "      buttonEl.style.display =\n",
       "        google.colab.kernel.accessAllowed ? 'block' : 'none';\n",
       "\n",
       "      async function convertToInteractive(key) {\n",
       "        const element = document.querySelector('#df-71acedbf-88af-443a-b86f-1e88cff006de');\n",
       "        const dataTable =\n",
       "          await google.colab.kernel.invokeFunction('convertToInteractive',\n",
       "                                                    [key], {});\n",
       "        if (!dataTable) return;\n",
       "\n",
       "        const docLinkHtml = 'Like what you see? Visit the ' +\n",
       "          '<a target=\"_blank\" href=https://colab.research.google.com/notebooks/data_table.ipynb>data table notebook</a>'\n",
       "          + ' to learn more about interactive tables.';\n",
       "        element.innerHTML = '';\n",
       "        dataTable['output_type'] = 'display_data';\n",
       "        await google.colab.output.renderOutput(dataTable, element);\n",
       "        const docLink = document.createElement('div');\n",
       "        docLink.innerHTML = docLinkHtml;\n",
       "        element.appendChild(docLink);\n",
       "      }\n",
       "    </script>\n",
       "  </div>\n",
       "\n",
       "\n",
       "<div id=\"df-f27a1b2f-578f-4c98-bda2-b89956e38ec4\">\n",
       "  <button class=\"colab-df-quickchart\" onclick=\"quickchart('df-f27a1b2f-578f-4c98-bda2-b89956e38ec4')\"\n",
       "            title=\"Suggest charts.\"\n",
       "            style=\"display:none;\">\n",
       "\n",
       "<svg xmlns=\"http://www.w3.org/2000/svg\" height=\"24px\"viewBox=\"0 0 24 24\"\n",
       "     width=\"24px\">\n",
       "    <g>\n",
       "        <path d=\"M19 3H5c-1.1 0-2 .9-2 2v14c0 1.1.9 2 2 2h14c1.1 0 2-.9 2-2V5c0-1.1-.9-2-2-2zM9 17H7v-7h2v7zm4 0h-2V7h2v10zm4 0h-2v-4h2v4z\"/>\n",
       "    </g>\n",
       "</svg>\n",
       "  </button>\n",
       "\n",
       "<style>\n",
       "  .colab-df-quickchart {\n",
       "      --bg-color: #E8F0FE;\n",
       "      --fill-color: #1967D2;\n",
       "      --hover-bg-color: #E2EBFA;\n",
       "      --hover-fill-color: #174EA6;\n",
       "      --disabled-fill-color: #AAA;\n",
       "      --disabled-bg-color: #DDD;\n",
       "  }\n",
       "\n",
       "  [theme=dark] .colab-df-quickchart {\n",
       "      --bg-color: #3B4455;\n",
       "      --fill-color: #D2E3FC;\n",
       "      --hover-bg-color: #434B5C;\n",
       "      --hover-fill-color: #FFFFFF;\n",
       "      --disabled-bg-color: #3B4455;\n",
       "      --disabled-fill-color: #666;\n",
       "  }\n",
       "\n",
       "  .colab-df-quickchart {\n",
       "    background-color: var(--bg-color);\n",
       "    border: none;\n",
       "    border-radius: 50%;\n",
       "    cursor: pointer;\n",
       "    display: none;\n",
       "    fill: var(--fill-color);\n",
       "    height: 32px;\n",
       "    padding: 0;\n",
       "    width: 32px;\n",
       "  }\n",
       "\n",
       "  .colab-df-quickchart:hover {\n",
       "    background-color: var(--hover-bg-color);\n",
       "    box-shadow: 0 1px 2px rgba(60, 64, 67, 0.3), 0 1px 3px 1px rgba(60, 64, 67, 0.15);\n",
       "    fill: var(--button-hover-fill-color);\n",
       "  }\n",
       "\n",
       "  .colab-df-quickchart-complete:disabled,\n",
       "  .colab-df-quickchart-complete:disabled:hover {\n",
       "    background-color: var(--disabled-bg-color);\n",
       "    fill: var(--disabled-fill-color);\n",
       "    box-shadow: none;\n",
       "  }\n",
       "\n",
       "  .colab-df-spinner {\n",
       "    border: 2px solid var(--fill-color);\n",
       "    border-color: transparent;\n",
       "    border-bottom-color: var(--fill-color);\n",
       "    animation:\n",
       "      spin 1s steps(1) infinite;\n",
       "  }\n",
       "\n",
       "  @keyframes spin {\n",
       "    0% {\n",
       "      border-color: transparent;\n",
       "      border-bottom-color: var(--fill-color);\n",
       "      border-left-color: var(--fill-color);\n",
       "    }\n",
       "    20% {\n",
       "      border-color: transparent;\n",
       "      border-left-color: var(--fill-color);\n",
       "      border-top-color: var(--fill-color);\n",
       "    }\n",
       "    30% {\n",
       "      border-color: transparent;\n",
       "      border-left-color: var(--fill-color);\n",
       "      border-top-color: var(--fill-color);\n",
       "      border-right-color: var(--fill-color);\n",
       "    }\n",
       "    40% {\n",
       "      border-color: transparent;\n",
       "      border-right-color: var(--fill-color);\n",
       "      border-top-color: var(--fill-color);\n",
       "    }\n",
       "    60% {\n",
       "      border-color: transparent;\n",
       "      border-right-color: var(--fill-color);\n",
       "    }\n",
       "    80% {\n",
       "      border-color: transparent;\n",
       "      border-right-color: var(--fill-color);\n",
       "      border-bottom-color: var(--fill-color);\n",
       "    }\n",
       "    90% {\n",
       "      border-color: transparent;\n",
       "      border-bottom-color: var(--fill-color);\n",
       "    }\n",
       "  }\n",
       "</style>\n",
       "\n",
       "  <script>\n",
       "    async function quickchart(key) {\n",
       "      const quickchartButtonEl =\n",
       "        document.querySelector('#' + key + ' button');\n",
       "      quickchartButtonEl.disabled = true;  // To prevent multiple clicks.\n",
       "      quickchartButtonEl.classList.add('colab-df-spinner');\n",
       "      try {\n",
       "        const charts = await google.colab.kernel.invokeFunction(\n",
       "            'suggestCharts', [key], {});\n",
       "      } catch (error) {\n",
       "        console.error('Error during call to suggestCharts:', error);\n",
       "      }\n",
       "      quickchartButtonEl.classList.remove('colab-df-spinner');\n",
       "      quickchartButtonEl.classList.add('colab-df-quickchart-complete');\n",
       "    }\n",
       "    (() => {\n",
       "      let quickchartButtonEl =\n",
       "        document.querySelector('#df-f27a1b2f-578f-4c98-bda2-b89956e38ec4 button');\n",
       "      quickchartButtonEl.style.display =\n",
       "        google.colab.kernel.accessAllowed ? 'block' : 'none';\n",
       "    })();\n",
       "  </script>\n",
       "</div>\n",
       "    </div>\n",
       "  </div>\n"
      ]
     },
     "metadata": {},
     "execution_count": 272
    }
   ]
  },
  {
   "cell_type": "code",
   "source": [
    "def missing_statistic(df):\n",
    "  cols = df.columns\n",
    "  missing_counts = df.isnull().sum()\n",
    "  missing_percent = missing_counts / len(df) *100\n",
    "  missing_info = pd.DataFrame({'percentage': missing_percent}, index=cols)\n",
    "  plt.figure(figsize=(12, 6))\n",
    "  sns.barplot(y=missing_info['percentage'], x=missing_info.index)\n",
    "  plt.xticks(rotation=90)\n",
    "  plt.title('Missing Value Percentage per Column')\n",
    "  plt.xlabel('Columns')\n",
    "  plt.ylabel('Missing Percentage')\n",
    "  plt.tight_layout()\n",
    "  plt.show()\n",
    "  print(missing_percent)\n",
    "  # mean = np.mean(missing_info['percentage'])\n",
    "  # print(\"Mean missing percentage: \",mean)\n",
    "\n",
    "missing_statistic(df)\n"
   ],
   "metadata": {
    "colab": {
     "base_uri": "https://localhost:8080/",
     "height": 1000
    },
    "id": "MqD7Er-fjzH3",
    "outputId": "790c654e-cc49-4e0a-a5d5-58f0473e70a4",
    "pycharm": {
     "name": "#%%\n"
    }
   },
   "execution_count": 273,
   "outputs": [
    {
     "output_type": "display_data",
     "data": {
      "text/plain": [
       "<Figure size 1200x600 with 1 Axes>"
      ],
      "image/png": "[encoded data removed]"
     },
     "metadata": {}
    },
    {
     "output_type": "stream",
     "name": "stdout",
     "text": [
      "ID                         0.000000\n",
      "pName                      0.000000\n",
      "tradePrice                65.968586\n",
      "actualPrice               57.068063\n",
      "salePrice                 65.968586\n",
      "brand                      2.094241\n",
      "productLine               32.984293\n",
      "rating                    76.178010\n",
      "url                        0.000000\n",
      "                          97.643979\n",
      "bluetooth                 22.251309\n",
      "bo nho trong               8.900524\n",
      "camera sau                10.209424\n",
      "camera truoc              13.874346\n",
      "chipset                   54.973822\n",
      "chat lieu khung vien      50.523560\n",
      "chat lieu mat lung        47.643979\n",
      "chi so khang nuoc, bui    58.900524\n",
      "cac loai cam bien         26.439791\n",
      "cong nghe - tien ich      98.952880\n",
      "cong nghe nfc             31.151832\n",
      "cong nghe man hinh        12.827225\n",
      "cong nghe sac             17.015707\n",
      "cong nghe am thanh        69.895288\n",
      "cam bien                  97.382199\n",
      "cam bien van tay          26.963351\n",
      "cong sac                  21.727749\n",
      "dung luong ram            11.518325\n",
      "gps                       25.130890\n",
      "gpu                       70.418848\n",
      "he thong lam mat          89.528796\n",
      "he dieu hanh              15.706806\n",
      "hong ngoai                60.471204\n",
      "ho tro mang               20.680628\n",
      "jack tai nghe 3.5         24.869110\n",
      "khe cam the nho           31.151832\n",
      "kieu man hinh             65.706806\n",
      "kich thuoc                32.722513\n",
      "kich thuoc man hinh       12.303665\n",
      "loai cpu                  69.633508\n",
      "loai man hinh             91.884817\n",
      "pin                        8.900524\n",
      "quay video                26.439791\n",
      "quay video truoc          35.340314\n",
      "the sim                   19.895288\n",
      "thoi diem ra mat          93.455497\n",
      "tien ich khac             73.036649\n",
      "trong luong               34.031414\n",
      "tinh nang camera          31.937173\n",
      "tinh nang man hinh        19.633508\n",
      "tinh nang dac biet        64.921466\n",
      "tuong thich               97.120419\n",
      "tan so quet               68.586387\n",
      "wi-fi                     23.036649\n",
      "do phan giai man hinh     24.083770\n",
      "dtype: float64\n"
     ]
    }
   ]
  },
  {
   "cell_type": "code",
   "source": [
    "df['pName'] = df['pName'].apply(lambda x: no_accent_vietnamese(x).lower())"
   ],
   "metadata": {
    "id": "KgjHd3SrSbWQ",
    "pycharm": {
     "name": "#%%\n"
    }
   },
   "execution_count": 274,
   "outputs": []
  },
  {
   "cell_type": "markdown",
   "source": [
    "**Rating processing**"
   ],
   "metadata": {
    "id": "CYl4LnfvtlMR",
    "pycharm": {
     "name": "#%% md\n"
    }
   }
  },
  {
   "cell_type": "code",
   "source": [
    "df['rating'] = pd.to_numeric(df['rating'].str.split('/').str[0])\n",
    "df['rating'].fillna(df['rating'].mean(),inplace=True)\n",
    "df['rating'] = df['rating'].apply(lambda x: \"{:.1f}\".format(x))\n",
    "df['rating'].value_counts()"
   ],
   "metadata": {
    "id": "UwYQhTPpbBjq",
    "colab": {
     "base_uri": "https://localhost:8080/"
    },
    "outputId": "211676c5-a22e-4240-c83a-c36f0fd08933",
    "pycharm": {
     "name": "#%%\n"
    }
   },
   "execution_count": 275,
   "outputs": [
    {
     "output_type": "execute_result",
     "data": {
      "text/plain": [
       "4.8    301\n",
       "5.0     47\n",
       "4.9      9\n",
       "4.5      7\n",
       "4.0      6\n",
       "4.6      4\n",
       "4.3      4\n",
       "4.7      2\n",
       "4.2      1\n",
       "4.4      1\n",
       "Name: rating, dtype: int64"
      ]
     },
     "metadata": {},
     "execution_count": 275
    }
   ]
  },
  {
   "cell_type": "markdown",
   "source": [
    "**Brand processing**"
   ],
   "metadata": {
    "id": "Zq4STeDdtu9c",
    "pycharm": {
     "name": "#%% md\n"
    }
   }
  },
  {
   "cell_type": "code",
   "source": [
    "df['brand'] = df['brand'].astype(str).apply(lambda x: no_accent_vietnamese(x).lower())\n",
    "df['brand'] = np.where(df['brand'] == \"Tin don - Moi ra\", df['productLine'], df['brand'])\n",
    "df['brand'].fillna(df['productLine'], inplace=True)\n",
    "df['brand'].fillna(\"missing\", inplace=True)"
   ],
   "metadata": {
    "id": "O192My9EjGnH",
    "pycharm": {
     "name": "#%%\n"
    }
   },
   "execution_count": 276,
   "outputs": []
  },
  {
   "cell_type": "code",
   "source": [
    "df['brand'].value_counts().plot(kind='bar')"
   ],
   "metadata": {
    "colab": {
     "base_uri": "https://localhost:8080/",
     "height": 595
    },
    "id": "sojnhbfMpUS3",
    "outputId": "fbe6ea26-b878-4a31-d4ca-58c9dfb97a67",
    "pycharm": {
     "name": "#%%\n"
    }
   },
   "execution_count": 277,
   "outputs": [
    {
     "output_type": "execute_result",
     "data": {
      "text/plain": [
       "<Axes: >"
      ]
     },
     "metadata": {},
     "execution_count": 277
    },
    {
     "output_type": "display_data",
     "data": {
      "text/plain": [
       "<Figure size 640x480 with 1 Axes>"
      ],
      "image/png": "[encoded data removed]"
     },
     "metadata": {}
    }
   ]
  },
  {
   "cell_type": "markdown",
   "source": [
    "**Product Line missing-filling**"
   ],
   "metadata": {
    "id": "iXR--9Wft-pj",
    "pycharm": {
     "name": "#%% md\n"
    }
   }
  },
  {
   "cell_type": "code",
   "source": [
    "df['productLine'].fillna(df['brand'], inplace=True)\n",
    "df['productLine'] = df['productLine'].apply(lambda x: no_accent_vietnamese(x).lower())"
   ],
   "metadata": {
    "id": "yRj_ib9lirQ0",
    "pycharm": {
     "name": "#%%\n"
    }
   },
   "execution_count": 278,
   "outputs": []
  },
  {
   "cell_type": "markdown",
   "source": [
    "**ROM preprocessing**"
   ],
   "metadata": {
    "id": "v1YdE5uauRln",
    "pycharm": {
     "name": "#%% md\n"
    }
   }
  },
  {
   "cell_type": "code",
   "source": [
    "df['bo nho trong'] = df['bo nho trong'].astype(str).apply(lambda x: \"0.128 GB\" if x == \"128 MB\" else (\"1000 GB\" if x == \"1 TB\" else x))\n",
    "df['bo nho trong'] = df['bo nho trong'].apply(find_numeric_value)\n",
    "rom_mean = math.floor(df['bo nho trong'].mean())\n",
    "df['bo nho trong'].fillna(rom_mean, inplace = True)"
   ],
   "metadata": {
    "id": "lLRw4LosvYqp",
    "pycharm": {
     "name": "#%%\n"
    }
   },
   "execution_count": 279,
   "outputs": []
  },
  {
   "cell_type": "markdown",
   "source": [
    "**RAM processing**"
   ],
   "metadata": {
    "id": "sY2nQzFeuUfh",
    "pycharm": {
     "name": "#%% md\n"
    }
   }
  },
  {
   "cell_type": "code",
   "source": [
    "df['dung luong ram'] = df['dung luong ram'].astype(str).apply(find_numeric_value)\n",
    "ram_mean = math.ceil(df['dung luong ram'].mean())\n",
    "df['dung luong ram'].fillna(ram_mean, inplace = True)"
   ],
   "metadata": {
    "id": "LRvmM3rbGHJQ",
    "pycharm": {
     "name": "#%%\n"
    }
   },
   "execution_count": 280,
   "outputs": []
  },
  {
   "cell_type": "markdown",
   "source": [
    "**Camera data processing with TFIDF to extract keywords**"
   ],
   "metadata": {
    "id": "Yze4Di-DvPlX",
    "pycharm": {
     "name": "#%% md\n"
    }
   }
  },
  {
   "cell_type": "code",
   "source": [
    "from sklearn.feature_extraction.text import TfidfVectorizer\n",
    "tfidf_vectorizer = TfidfVectorizer(max_features=15, tokenizer=lambda text: text.split())"
   ],
   "metadata": {
    "id": "SWMw7w1J11J8",
    "pycharm": {
     "name": "#%%\n"
    }
   },
   "execution_count": 281,
   "outputs": []
  },
  {
   "cell_type": "code",
   "source": [
    "df['camera sau'] = df['camera sau'].astype(str).apply(lambda x: no_accent_vietnamese(x.replace('\\n' or ', ' or ': ',' ').replace(':', '').replace(' mp','mp').strip().lower()))\n",
    "documents = df['camera sau'].astype(str)\n",
    "\n",
    "tfidf_matrix = tfidf_vectorizer.fit_transform(documents)\n",
    "keywords = tfidf_vectorizer.get_feature_names_out()\n",
    "df['camera sau'] = df['camera sau'].apply(lambda x: ' '.join(keyword for keyword in keywords if keyword and keyword in x))\n",
    "\n",
    "df['camera sau'].fillna('thieu', inplace=True)"
   ],
   "metadata": {
    "colab": {
     "base_uri": "https://localhost:8080/"
    },
    "id": "FlmPg6qP7g0H",
    "outputId": "ed8b5aeb-9471-42da-c140-624f164f2854",
    "pycharm": {
     "name": "#%%\n"
    }
   },
   "execution_count": 282,
   "outputs": [
    {
     "output_type": "stream",
     "name": "stderr",
     "text": [
      "/usr/local/lib/python3.10/dist-packages/sklearn/feature_extraction/text.py:528: UserWarning: The parameter 'token_pattern' will not be used since 'tokenizer' is not None'\n",
      "  warnings.warn(\n"
     ]
    }
   ]
  },
  {
   "cell_type": "code",
   "source": [
    "df['camera truoc'] = df['camera truoc'].astype(str).apply(lambda x: no_accent_vietnamese(x.replace('\\n' or ', ' or ': ',' ').replace(':', '').replace(' mp','mp').strip().lower()))\n",
    "documents = df['camera sau'].astype(str)\n",
    "\n",
    "tfidf_matrix = tfidf_vectorizer.fit_transform(documents)\n",
    "keywords = tfidf_vectorizer.get_feature_names_out()\n",
    "df['camera truoc'] = df['camera truoc'].apply(lambda x: ' '.join(keyword for keyword in keywords if keyword and keyword in x))\n",
    "\n",
    "df['camera truoc'].fillna('thieu', inplace=True)"
   ],
   "metadata": {
    "id": "6jA0g5kF-g3Y",
    "pycharm": {
     "name": "#%%\n"
    }
   },
   "execution_count": 283,
   "outputs": []
  },
  {
   "cell_type": "markdown",
   "source": [
    "**Battery**"
   ],
   "metadata": {
    "id": "pVMS9Q9lunjI",
    "pycharm": {
     "name": "#%% md\n"
    }
   }
  },
  {
   "cell_type": "code",
   "source": [
    "# 4.000 or 4,000\n",
    "df['pin'] = df['pin'].astype(str).apply(lambda x: find_numeric_value(no_accent_vietnamese(x.replace('.' or ',',''))))"
   ],
   "metadata": {
    "id": "Od67qdMEC0Px",
    "pycharm": {
     "name": "#%%\n"
    }
   },
   "execution_count": 284,
   "outputs": []
  },
  {
   "cell_type": "markdown",
   "source": [
    "**Price processing**"
   ],
   "metadata": {
    "id": "PpL9J-WpAIbo",
    "pycharm": {
     "name": "#%% md\n"
    }
   }
  },
  {
   "cell_type": "code",
   "source": [
    "df['actualPrice'].value_counts()"
   ],
   "metadata": {
    "colab": {
     "base_uri": "https://localhost:8080/"
    },
    "id": "AGUFeENLFcXv",
    "outputId": "33637b68-7dff-4412-cd7b-ed2510bc3fb8",
    "pycharm": {
     "name": "#%%\n"
    }
   },
   "execution_count": 285,
   "outputs": [
    {
     "output_type": "execute_result",
     "data": {
      "text/plain": [
       "3990000.0     6\n",
       "17990000.0    5\n",
       "4490000.0     5\n",
       "18990000.0    5\n",
       "4990000.0     5\n",
       "             ..\n",
       "3390000.0     1\n",
       "23490000.0    1\n",
       "40990000.0    1\n",
       "5790000.0     1\n",
       "2000000.0     1\n",
       "Name: actualPrice, Length: 77, dtype: int64"
      ]
     },
     "metadata": {},
     "execution_count": 285
    }
   ]
  },
  {
   "cell_type": "code",
   "source": [
    "sorted_df = df['salePrice'].sort_values(ascending=True)\n",
    "\n",
    "quantiles = [0, 0.25, 0.5, 0.75, 1]\n",
    "quantile_values = sorted_df.quantile(quantiles)\n",
    "\n",
    "quantile_values"
   ],
   "metadata": {
    "colab": {
     "base_uri": "https://localhost:8080/"
    },
    "id": "04uQ8H3LLXz5",
    "outputId": "c3add521-8fab-46e7-c712-e03f0a2c99ac",
    "pycharm": {
     "name": "#%%\n"
    }
   },
   "execution_count": 286,
   "outputs": [
    {
     "output_type": "execute_result",
     "data": {
      "text/plain": [
       "0.00      650000.0\n",
       "0.25     4190000.0\n",
       "0.50     6890000.0\n",
       "0.75    14965000.0\n",
       "1.00    41990000.0\n",
       "Name: salePrice, dtype: float64"
      ]
     },
     "metadata": {},
     "execution_count": 286
    }
   ]
  },
  {
   "cell_type": "code",
   "source": [
    "def price_discretization(price):\n",
    "    if price <= 5000000:\n",
    "        return 'low'\n",
    "    elif price <= 10000000:\n",
    "        return 'middle'\n",
    "    elif price <= 20000000:\n",
    "        return 'midhigh'\n",
    "    else:\n",
    "        return 'high'"
   ],
   "metadata": {
    "id": "bVPbA4VuBuG-",
    "pycharm": {
     "name": "#%%\n"
    }
   },
   "execution_count": 287,
   "outputs": []
  },
  {
   "cell_type": "code",
   "source": [
    "df['actualPrice'] = df.apply(lambda row: row['salePrice'] if not pd.isnull(row['salePrice']) else (\n",
    "        row['tradePrice'] if not pd.isnull(row['tradePrice']) else row['actualPrice']), axis=1\n",
    ")"
   ],
   "metadata": {
    "id": "kKdQxweulYTK",
    "pycharm": {
     "name": "#%%\n"
    }
   },
   "execution_count": 288,
   "outputs": []
  },
  {
   "cell_type": "code",
   "source": [
    "df['actualPrice_discreted'] = df['actualPrice'].apply(price_discretization)"
   ],
   "metadata": {
    "id": "Jv920Z9qEocO",
    "pycharm": {
     "name": "#%%\n"
    }
   },
   "execution_count": 289,
   "outputs": []
  },
  {
   "cell_type": "code",
   "source": [
    "from scipy.stats import chi2_contingency\n",
    "\n",
    "contingency_table_pL = pd.crosstab(df['productLine'], df['actualPrice_discreted'])\n",
    "contingency_table_ram = pd.crosstab(df['dung luong ram'], df['actualPrice_discreted'])\n",
    "contingency_table_rom = pd.crosstab(df['bo nho trong'], df['actualPrice_discreted'])\n",
    "contingency_table_brand = pd.crosstab(df['brand'], df['actualPrice_discreted'])\n",
    "\n",
    "# Check correlation with productLine\n",
    "stat_pL, p_pL, dof_pL, expected_pL = chi2_contingency(contingency_table_pL)\n",
    "print(\"p value for productLine contingency table: \" + str(p_pL))\n",
    "\n",
    "# Check correlation with ram\n",
    "stat_ram, p_ram, dof_ram, expected_ram = chi2_contingency(contingency_table_ram)\n",
    "print(\"p value for dung luong ram contingency table: \" + str(p_ram))\n",
    "\n",
    "# Check correlation with rom\n",
    "stat_rom, p_rom, dof_rom, expected_rom = chi2_contingency(contingency_table_rom)\n",
    "print(\"p value for bo nho trong contingency table: \" + str(p_rom))\n",
    "\n",
    "# Check correlation with brand\n",
    "stat_brand, p_brand, dof_brand, expected_brand = chi2_contingency(contingency_table_brand)\n",
    "print(\"p value for brand contingency table: \" + str(p_brand))"
   ],
   "metadata": {
    "colab": {
     "base_uri": "https://localhost:8080/"
    },
    "id": "-LWMI_ogIYSe",
    "outputId": "d55ff857-1e23-42f8-f0ab-b7f2c6b39df3",
    "pycharm": {
     "name": "#%%\n"
    }
   },
   "execution_count": 290,
   "outputs": [
    {
     "output_type": "stream",
     "name": "stdout",
     "text": [
      "p value for productLine contingency table: 7.081277965385232e-40\n",
      "p value for dung luong ram contingency table: 7.807010384930493e-25\n",
      "p value for bo nho trong contingency table: 1.363404802017438e-16\n",
      "p value for brand contingency table: 3.3657187271129524e-40\n"
     ]
    }
   ]
  },
  {
   "cell_type": "code",
   "source": [
    "price_by_categories = df.groupby(['bo nho trong', 'dung luong ram', 'brand'])['actualPrice'].mean()\n",
    "\n",
    "def fill_missing_price(row):\n",
    "    if pd.isnull(row['actualPrice']):\n",
    "        return price_by_categories.get((row['bo nho trong'], row['dung luong ram'], row['brand']), None)\n",
    "    return row['actualPrice']\n",
    "\n",
    "df['actualPrice'] = df.apply(fill_missing_price, axis=1)"
   ],
   "metadata": {
    "id": "rPKHpV_soqtj",
    "pycharm": {
     "name": "#%%\n"
    }
   },
   "execution_count": 291,
   "outputs": []
  },
  {
   "cell_type": "code",
   "source": [
    "df['actualPrice'] = df['actualPrice'].fillna(df['actualPrice'].mean()).apply(price_discretization)"
   ],
   "metadata": {
    "id": "PQSfPkdVrMNI",
    "pycharm": {
     "name": "#%%\n"
    }
   },
   "execution_count": 292,
   "outputs": []
  },
  {
   "cell_type": "markdown",
   "source": [
    "**Water-proof**"
   ],
   "metadata": {
    "id": "jF0ox36Z0jAF",
    "pycharm": {
     "name": "#%% md\n"
    }
   }
  },
  {
   "cell_type": "code",
   "source": [
    "df['chi so khang nuoc, bui'] = df['chi so khang nuoc, bui'].apply(lambda x: 0 if pd.isna(x) or x==\"Khong co\" or x==\"Khong\" else 1)"
   ],
   "metadata": {
    "id": "lC7UpB2XwLzF",
    "pycharm": {
     "name": "#%%\n"
    }
   },
   "execution_count": 293,
   "outputs": []
  },
  {
   "cell_type": "markdown",
   "source": [
    "**Screen size**"
   ],
   "metadata": {
    "id": "OLY1cWY9BM6e",
    "pycharm": {
     "name": "#%% md\n"
    }
   }
  },
  {
   "cell_type": "code",
   "source": [
    "df['kich thuoc man hinh'] = df['kich thuoc man hinh'].astype(str).apply(find_numeric_value)\n",
    "df['kich thuoc man hinh'].fillna(0, inplace=True)"
   ],
   "metadata": {
    "id": "BJJVyd_Z_4Ft",
    "pycharm": {
     "name": "#%%\n"
    }
   },
   "execution_count": 294,
   "outputs": []
  },
  {
   "cell_type": "markdown",
   "source": [
    "# Recommendation"
   ],
   "metadata": {
    "id": "ff5IvK-sWdPm",
    "pycharm": {
     "name": "#%% md\n"
    }
   }
  },
  {
   "cell_type": "code",
   "source": [
    "df = df[[\"pName\", \"actualPrice\", \"brand\", \"productLine\", \"rating\", \"kich thuoc man hinh\", \"pin\", \"bo nho trong\", \"dung luong ram\", \"chi so khang nuoc, bui\"]]\n",
    "columns = ['pName','brand', 'productLine', 'rating', 'kich thuoc man hinh', 'pin' , 'bo nho trong', 'dung luong ram', 'actualPrice', 'chi so khang nuoc, bui']\n",
    "df['bag_of_words'] = df.apply(lambda row: ' '.join(str(row[col]) for col in columns), axis=1)"
   ],
   "metadata": {
    "id": "OOhqCUgNK9jP",
    "colab": {
     "base_uri": "https://localhost:8080/"
    },
    "outputId": "19b5eb43-32bd-463d-8352-d23e2574d84a",
    "pycharm": {
     "name": "#%%\n"
    }
   },
   "execution_count": 295,
   "outputs": [
    {
     "output_type": "stream",
     "name": "stderr",
     "text": [
      "<ipython-input-295-c2aa0b0d6736>:3: SettingWithCopyWarning: \n",
      "A value is trying to be set on a copy of a slice from a DataFrame.\n",
      "Try using .loc[row_indexer,col_indexer] = value instead\n",
      "\n",
      "See the caveats in the documentation: https://pandas.pydata.org/pandas-docs/stable/user_guide/indexing.html#returning-a-view-versus-a-copy\n",
      "  df['bag_of_words'] = df.apply(lambda row: ' '.join(str(row[col]) for col in columns), axis=1)\n"
     ]
    }
   ]
  },
  {
   "cell_type": "code",
   "source": [
    "df.set_index('pName', inplace = True)\n",
    "indices = pd.Series(df.index).str.strip().str.lower()"
   ],
   "metadata": {
    "id": "lVjaTz9shr6O",
    "pycharm": {
     "name": "#%%\n"
    }
   },
   "execution_count": 296,
   "outputs": []
  },
  {
   "cell_type": "code",
   "source": [
    "from sklearn.feature_extraction.text import CountVectorizer\n",
    "from sklearn.metrics.pairwise import cosine_similarity\n",
    "\n",
    "count_vectorizer = CountVectorizer()\n",
    "count_matrix = count_vectorizer.fit_transform(df['bag_of_words'])\n",
    "\n",
    "cosine_sim = cosine_similarity(count_matrix, count_matrix)"
   ],
   "metadata": {
    "id": "d1SMwcrESNCE",
    "pycharm": {
     "name": "#%%\n"
    }
   },
   "execution_count": 297,
   "outputs": []
  },
  {
   "cell_type": "code",
   "source": [
    "cosine_sim"
   ],
   "metadata": {
    "colab": {
     "base_uri": "https://localhost:8080/"
    },
    "id": "ZEXFP_Hcnr4V",
    "outputId": "d38fc814-0710-4a44-c124-d8969459e0d7",
    "pycharm": {
     "name": "#%%\n"
    }
   },
   "execution_count": 298,
   "outputs": [
    {
     "output_type": "execute_result",
     "data": {
      "text/plain": [
       "array([[1.        , 0.06681531, 0.06131393, ..., 0.06299408, 0.06900656,\n",
       "        0.57142857],\n",
       "       [0.06681531, 1.        , 0.11470787, ..., 0.11785113, 0.12909944,\n",
       "        0.06681531],\n",
       "       [0.06131393, 0.11470787, 1.        , ..., 0.        , 0.        ,\n",
       "        0.06131393],\n",
       "       ...,\n",
       "       [0.06299408, 0.11785113, 0.        , ..., 1.        , 0.12171612,\n",
       "        0.        ],\n",
       "       [0.06900656, 0.12909944, 0.        , ..., 0.12171612, 1.        ,\n",
       "        0.        ],\n",
       "       [0.57142857, 0.06681531, 0.06131393, ..., 0.        , 0.        ,\n",
       "        1.        ]])"
      ]
     },
     "metadata": {},
     "execution_count": 298
    }
   ]
  },
  {
   "cell_type": "code",
   "source": [
    "def recommendations(pName, cosine_sim = cosine_sim):\n",
    "    recommended_products = []\n",
    "    # get index\n",
    "    idx = indices[indices == pName].index[0]\n",
    "\n",
    "    # get scores from cosine sim matrix\n",
    "    similarity_scores = cosine_sim[idx]\n",
    "    score_series = pd.Series(similarity_scores).sort_values(ascending=False)\n",
    "    top_10_recommendations = score_series[1:].head(10)\n",
    "\n",
    "    top_10_indices = top_10_recommendations.index.astype(int)\n",
    "\n",
    "    #recommended_products = [list(df.index)[i] for i in top_10_indices]\n",
    "\n",
    "    #return recommended_products\n",
    "\n",
    "    for i in top_10_indices:\n",
    "        pName = list(df.index)[i]\n",
    "        attributes = df.loc[pName]\n",
    "        print(f\"Product: {pName} | Price: {attributes['actualPrice']} | Ratings: {attributes['rating']} Similarity Score: {top_10_recommendations[i]}\")"
   ],
   "metadata": {
    "id": "PNOKaLyMXDG8",
    "pycharm": {
     "name": "#%%\n"
    }
   },
   "execution_count": 299,
   "outputs": []
  },
  {
   "cell_type": "code",
   "source": [
    "indices"
   ],
   "metadata": {
    "colab": {
     "base_uri": "https://localhost:8080/"
    },
    "id": "EXRBEf0YoayP",
    "outputId": "c4f47067-85b2-472a-a4eb-98d6d2600c70",
    "pycharm": {
     "name": "#%%\n"
    }
   },
   "execution_count": 300,
   "outputs": [
    {
     "output_type": "execute_result",
     "data": {
      "text/plain": [
       "0                 samsung galaxy s23 ultra 256gb\n",
       "1                 xiaomi redmi note 12 8gb 128gb\n",
       "2      iphone 14 pro max 128gb | chinh hang vn/a\n",
       "3              iphone 13 128gb | chinh hang vn/a\n",
       "4                 xiaomi redmi note 12 4gb 128gb\n",
       "                         ...                    \n",
       "377                               huawei p50 pro\n",
       "378                                  honor tab 8\n",
       "379                   tcl 305 cruze lite 2g 32gb\n",
       "380                            oneplus nord n300\n",
       "381                                  samsung w22\n",
       "Name: pName, Length: 382, dtype: object"
      ]
     },
     "metadata": {},
     "execution_count": 300
    }
   ]
  },
  {
   "cell_type": "code",
   "source": [
    "recommendations('iphone 13 128gb | chinh hang vn/a')"
   ],
   "metadata": {
    "colab": {
     "base_uri": "https://localhost:8080/"
    },
    "id": "NYyHg7GLiJ1B",
    "outputId": "ced419c7-04fc-4348-94b3-68b53c48664d",
    "pycharm": {
     "name": "#%%\n"
    }
   },
   "execution_count": 265,
   "outputs": [
    {
     "output_type": "stream",
     "name": "stdout",
     "text": [
      "Product:  iphone 12 128gb | chinh hang vn/a   | Price: highmid | Ratings: 4.8 Similarity Score: 0.875\n",
      "Product:  iphone 13 pro 128gb | chinh hang vn/a  | Price: high | Ratings: 4.6 Similarity Score: 0.875\n",
      "Product:  iphone 13 pro max 128gb | chinh hang vn/a  | Price: high | Ratings: 4.6 Similarity Score: 0.8488746876271656\n",
      "Product:  iphone 14 pro 128gb | chinh hang vn/a  | Price: high | Ratings: 5.0 Similarity Score: 0.7882407813680823\n",
      "Product:  iphone 14 plus 128gb | chinh hang vn/a  | Price: high | Ratings: 4.8 Similarity Score: 0.7882407813680823\n",
      "Product:  iphone 12 64gb | chinh hang vn/a   | Price: highmid | Ratings: 4.9 Similarity Score: 0.75\n",
      "Product:  iphone 14 256gb | chinh hang vn/a  | Price: high | Ratings: 4.8 Similarity Score: 0.6875\n",
      "Product:  iphone 11 128gb | chinh hang vn/a   | Price: highmid | Ratings: 4.9 Similarity Score: 0.6669729688499157\n",
      "Product:  iphone 13 pro max 256gb | chinh hang vn/a  | Price: high | Ratings: 4.4 Similarity Score: 0.5892556509887896\n",
      "Product:  iphone 14 pro max 128gb | chinh hang vn/a  | Price: high | Ratings: 5.0 Similarity Score: 0.5735393346764043\n"
     ]
    }
   ]
  }
 ]
}